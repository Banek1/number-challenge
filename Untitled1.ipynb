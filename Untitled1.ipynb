{
  "nbformat": 4,
  "nbformat_minor": 0,
  "metadata": {
    "colab": {
      "name": "Untitled1.ipynb",
      "version": "0.3.2",
      "provenance": [],
      "collapsed_sections": []
    },
    "kernelspec": {
      "name": "python3",
      "display_name": "Python 3"
    }
  },
  "cells": [
    {
      "metadata": {
        "id": "ePmcQr-_6vAo",
        "colab_type": "code",
        "colab": {}
      },
      "cell_type": "code",
      "source": [
        ""
      ],
      "execution_count": 0,
      "outputs": []
    },
    {
      "metadata": {
        "id": "-RPfvoK46vej",
        "colab_type": "code",
        "colab": {}
      },
      "cell_type": "code",
      "source": [
        "#subtract from 100 until you get 0\n",
        "\n",
        "a = 100\n",
        "\n",
        "b = int(input(\"subtract a number from 100: \"))\n",
        "\n",
        "c = a - b\n",
        "print(c)  \n",
        "\n",
        "\n",
        "\n",
        "\n",
        "\n",
        "while c != 0:\n",
        "    if c >= 0:\n",
        "        b = int(input(\"subtract a number from 100: \"))\n",
        "        c = c - b\n",
        "        print(c)\n",
        "\n",
        "    if [c <= 0]:\n",
        "        print(\"try again \")\n",
        "        c = c + b\n",
        "        print(c)\n",
        "\n",
        "\n",
        "\n",
        "\n",
        "\n",
        "    \n",
        "\n",
        "if [c == 0]: print(\"Finished\")"
      ],
      "execution_count": 0,
      "outputs": []
    },
    {
      "metadata": {
        "id": "0O-Wl2cK619c",
        "colab_type": "code",
        "colab": {}
      },
      "cell_type": "code",
      "source": [
        ""
      ],
      "execution_count": 0,
      "outputs": []
    }
  ]
}